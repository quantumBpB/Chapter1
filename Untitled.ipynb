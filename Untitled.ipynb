{
 "cells": [
  {
   "cell_type": "code",
   "execution_count": null,
   "id": "23091b0b",
   "metadata": {},
   "outputs": [
    {
     "ename": "NameError",
     "evalue": "name 'QuantumCircuit' is not defined",
     "output_type": "error",
     "traceback": [
      "\u001b[31m---------------------------------------------------------------------------\u001b[39m",
      "\u001b[31mNameError\u001b[39m                                 Traceback (most recent call last)",
      "\u001b[36mCell\u001b[39m\u001b[36m \u001b[39m\u001b[32mIn[1]\u001b[39m\u001b[32m, line 2\u001b[39m\n\u001b[32m      1\u001b[39m \u001b[38;5;66;03m# 1. Create the quantum circuit\u001b[39;00m\n\u001b[32m----> \u001b[39m\u001b[32m2\u001b[39m qc = \u001b[43mQuantumCircuit\u001b[49m(\u001b[32m5\u001b[39m, \u001b[32m1\u001b[39m)  \u001b[38;5;66;03m# 3 data qubits + 2 ancillas for syndrome detection\u001b[39;00m\n\u001b[32m      4\u001b[39m \u001b[38;5;66;03m# Label: qubit 0 = original qubit\u001b[39;00m\n\u001b[32m      5\u001b[39m \u001b[38;5;66;03m#        qubits 1 & 2 = encoding qubits\u001b[39;00m\n\u001b[32m      6\u001b[39m \u001b[38;5;66;03m#        qubits 3 & 4 = ancilla qubits for error detection\u001b[39;00m\n\u001b[32m      7\u001b[39m \n\u001b[32m      8\u001b[39m \u001b[38;5;66;03m# 2. Encode |+⟩ state into 3 qubits\u001b[39;00m\n\u001b[32m      9\u001b[39m qc.h(\u001b[32m0\u001b[39m)\n",
      "\u001b[31mNameError\u001b[39m: name 'QuantumCircuit' is not defined"
     ]
    }
   ],
   "source": [
    "from qiskit import QuantumCircuit\n",
    "from qiskit.quantum_info import Statevector, DensityMatrix, partial_trace\n",
    "from qiskit.visualization.bloch import Bloch\n",
    "import matplotlib.pyplot as plt\n",
    "import numpy as np\n",
    "# 1. Create the quantum circuit\n",
    "qc = QuantumCircuit(5, 1)  # 3 data qubits + 2 ancillas for syndrome detection\n",
    "\n",
    "# Label: qubit 0 = original qubit\n",
    "#        qubits 1 & 2 = encoding qubits\n",
    "#        qubits 3 & 4 = ancilla qubits for error detection\n",
    "\n",
    "# 2. Encode |+⟩ state into 3 qubits\n",
    "qc.h(0)\n",
    "qc.cx(0, 1)\n",
    "qc.cx(0, 2)\n",
    "\n",
    "# 3. Introduce a bit-flip (X) error on one qubit (simulate noise)\n",
    "qc.x(1)  # Try changing this to 0, 1, or 2\n",
    "\n",
    "# 4. Syndrome measurement using ancilla qubits\n",
    "qc.cx(0, 3)\n",
    "qc.cx(1, 3)\n",
    "qc.cx(1, 4)\n",
    "qc.cx(2, 4)\n",
    "\n",
    "# 5. Measure ancilla qubits (optional if just correcting)\n",
    "qc.measure_all()\n",
    "\n",
    "# 6. Run the simulation\n",
    "sim = Aer.get_backend('aer_simulator')\n",
    "qc = qc.decompose()  # Optional: show details\n",
    "result = execute(qc, sim, shots=1024).result()\n",
    "counts = result.get_counts()\n",
    "\n",
    "# 7. Show the results\n",
    "plot_histogram(counts)\n",
    "qc.draw('mpl')"
   ]
  }
 ],
 "metadata": {
  "kernelspec": {
   "display_name": "Python 3",
   "language": "python",
   "name": "python3"
  },
  "language_info": {
   "codemirror_mode": {
    "name": "ipython",
    "version": 3
   },
   "file_extension": ".py",
   "mimetype": "text/x-python",
   "name": "python",
   "nbconvert_exporter": "python",
   "pygments_lexer": "ipython3",
   "version": "3.12.1"
  }
 },
 "nbformat": 4,
 "nbformat_minor": 5
}
